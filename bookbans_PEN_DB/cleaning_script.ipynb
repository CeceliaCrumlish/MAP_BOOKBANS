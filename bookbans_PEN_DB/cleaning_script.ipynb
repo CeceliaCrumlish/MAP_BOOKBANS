{
 "cells": [
  {
   "cell_type": "markdown",
   "metadata": {},
   "source": [
    "## Data Analysis and Cleaning for Book Bans from the PEN dataset \n",
    "found here: https://docs.google.com/spreadsheets/d/1a6v7R7pidO7TIwRZTIh9T6c0--QNNVufcUUrDcz2GJM/edit#gid=717219603\n"
   ]
  },
  {
   "cell_type": "code",
   "execution_count": null,
   "metadata": {},
   "outputs": [],
   "source": [
    "# download dataset \n",
    "import pandas as pd\n",
    "\n",
    "dataframe_bans = pd.read_csv('ban_data/Pen_ban_data.csv')\n",
    "\n",
    "dataframe_bans"
   ]
  },
  {
   "cell_type": "markdown",
   "metadata": {},
   "source": [
    "## Reuse the same code from book_bans_summary_table to create summary table \n",
    "\n",
    "I need two things from this dataset \n",
    "1. response \n",
    "2. year either 2022 or 2023, probs just have one for both and one for total \n",
    "\n",
    "The data follows this pattern: \n",
    "\n",
    "**Challenge Information**\n",
    "\n",
    "1. Date of Challenge/Removal:\tThe approximate month and year when a book was first noted as removed or prohibited based on available public documents.\n",
    "\n",
    "2. Type of Ban\tIndicates one of four types of bans: 'Banned from Libraries and Classrooms,' 'Banned from Libraries,' 'Banned from Classrooms,' or 'Banned Pending Investigation.'\n",
    "\n",
    "* Banned from Libraries and Classrooms: These represent instances where individual titles were placed off-limits for students in either some or all libraries and classrooms.\n",
    "\n",
    "* Banned from Libraries\tThese represent instances in which administrators or school boards have removed individual titles from school libraries where they were previously available. Books in this category are not necessarily banned from classroom curriculum. This category includes decisions to ban a book from one school-level library (e.g. a middle school) even if it is included in libraries for higher grades (e.g. a high school), or other forms of grade-level restrictions.\n",
    "* Banned from Classrooms\tThese represent instances where school boards or other school authorities have barred individual titles from classroom libraries, curriculum, or optional reading lists. These constitute bans on use in classrooms, even in cases where the books may still be available in school libraries.\n",
    "* Banned Pending Investigation\tThese are instances where a title was removed from access and no final decision has been made on the availability of the material. The Index records these bans, even if only temporarily enforced and even if books have ultimately been returned to shelves.\n",
    "\n",
    "3. Origin of Challenge The approximate initial action that led to the removal/reduction of access to a title. \n",
    "\t"
   ]
  },
  {
   "cell_type": "code",
   "execution_count": null,
   "metadata": {},
   "outputs": [],
   "source": [
    "import pandas as pd\n",
    "\n",
    "# uses the definitions about what states have done if the definition is unknown \n",
    "# for the response the book could still be challenged and just nothing has happened to it \n",
    "\n",
    "\n",
    "\n",
    "def create_summary(response, df, col:str, geo_res):\n",
    "    \"\"\" geo_res: geographic resolution either 'State' tag or 'District' tag\n",
    "        to group summary by fields for a particular place, if district is chosen\n",
    "        need to ensure state tag also still persists \n",
    "    \"\"\"\n",
    "    # Filter the DataFrame based on the response\n",
    "    filtered_df = df[df[col] == response]\n",
    "    \n",
    "    # Group the filtered DataFrame by the 'State' column and count the number of entries in each group\n",
    "    summary = filtered_df.groupby(geo_res).size().reset_index(name='Count_of_{}_Books'.format(response))\n",
    "    \n",
    "    # If some resolutions have no books for this response, fill those with 0 TODO: change state resolution to full \n",
    "    all_states = df[geo_res].unique()\n",
    "    missing_states = set(all_states) - set(summary[geo_res].unique())\n",
    "    missing_summary = pd.DataFrame({'State': list(missing_states), 'Count_of_{}_Books'.format(response): [0] * len(missing_states)})\n",
    "    \n",
    "    # Concatenate summary and missing_summary to ensure all states are included\n",
    "    summary = pd.concat([summary, missing_summary])\n",
    "    \n",
    "    # Reset index\n",
    "    summary.reset_index(drop=True, inplace=True)\n",
    "    \n",
    "    return summary\n",
    "\n",
    "\n",
    "def create_summary_table(column: str, response_types:list, geo_res:str) -> pd.DataFrame:\n",
    "        \n",
    "    # Create a list of DataFrames containing summaries for each response type\n",
    "    summary_list = [create_summary(response, dataframe_bantable, column, geo_res) for response in response_types]\n",
    "    \n",
    "    # Merge DataFrames horizontally based on the 'State' column\n",
    "    table = pd.concat(summary_list, axis=1)\n",
    "    \n",
    "    # Drop duplicate 'State' columns (if any)\n",
    "    table = table.loc[:, ~table.columns.duplicated()]\n",
    "    \n",
    "    # add a sum of all the types of bans to the end of the row \n",
    "    table[\"sum_total_challenges_bans\"] = table.iloc[:, 1:].sum(axis=1)\n",
    "    \n",
    "    # Find the most occurring book for each state\n",
    "    most_occuring_books = dataframe_bantable.groupby(geo_res)['Title'].agg(\n",
    "        lambda x: (x.value_counts().iloc[0], x.value_counts().index[0]) if not x.empty else (0, None)\n",
    "    ).reset_index(name='Most_Occurring_Book')\n",
    "    \n",
    "    # Merge the most occurring book information with the summary\n",
    "    table = pd.merge(table, most_occuring_books, on=geo_res, how='left')\n",
    "    \n",
    "    return table\n",
    "\n"
   ]
  },
  {
   "cell_type": "code",
   "execution_count": null,
   "metadata": {},
   "outputs": [],
   "source": [
    "\n",
    "#TODO: Include origin of challenge as seperate categories as well? \n",
    "\n",
    "response_types = ['Banned from Libraries and Classrooms', \n",
    "                  'Banned from Libraries'\n",
    "                  ,'Banned from Classrooms','Banned Pending Investigation']\n"
   ]
  },
  {
   "cell_type": "code",
   "execution_count": null,
   "metadata": {},
   "outputs": [],
   "source": [
    "# resolution for a single entry can be \n",
    "# AY all years \n",
    "# or put in Date format MO YR \n"
   ]
  },
  {
   "cell_type": "code",
   "execution_count": null,
   "metadata": {},
   "outputs": [],
   "source": [
    "# for all states for years 2022 - 2023\n",
    "\n",
    "# rock this for individual states \n",
    "states_decision_summary22_23 = create_summary_table('Ban Status', response_types, geo_res='State')\n",
    "\n",
    "#counties_decision_sumary\n",
    "counties_decision_summary22_23 = create_summary_table('Ban Status', response_types, geo_res='District')"
   ]
  }
 ],
 "metadata": {
  "language_info": {
   "name": "python"
  }
 },
 "nbformat": 4,
 "nbformat_minor": 2
}
